{
 "cells": [
  {
   "cell_type": "markdown",
   "metadata": {},
   "source": [
    "## 生成数据，包含X和y, training data and test data"
   ]
  },
  {
   "cell_type": "code",
   "execution_count": 2,
   "metadata": {},
   "outputs": [],
   "source": [
    "import torch\n",
    "from torch.autograd import Variable\n",
    "from torch.nn import functional\n",
    "# 构建训练数据集[x，y]\n",
    "data_num = 100\n",
    "x = torch.unsqueeze(torch.linspace(-1,1,data_num), dim=1)\n",
    "y0 = torch.zeros(50) \n",
    "y1 = torch.ones(50)\n",
    "y = torch.cat((y0, y1), ).type(torch.LongTensor)"
   ]
  },
  {
   "cell_type": "markdown",
   "metadata": {},
   "source": [
    "### 定义分类精度评估函数\n",
    "计算被正确分类的精度，显然精度越高越好"
   ]
  },
  {
   "cell_type": "code",
   "execution_count": 3,
   "metadata": {},
   "outputs": [],
   "source": [
    "def get_acc(labels, outputs):\n",
    "    '''get_acc: Get the classification accuracy\n",
    "        Inputs: labels: the ground truth; \n",
    "                outputs: the predicted labels of a DNN \n",
    "        Outputs: the accuracy \n",
    "    '''\n",
    "    _, predicted = torch.max(outputs.data, 1)\n",
    "    data_num = y.shape[0]*1.0\n",
    "    #item() to get a Python number from a tensor containing a single value:\n",
    "    correct_num = (predicted == labels).sum().item()\n",
    "    accuracy = correct_num/data_num\n",
    "    return accuracy"
   ]
  },
  {
   "cell_type": "markdown",
   "metadata": {},
   "source": [
    "### 构架快速训练模块Sequential，其中包含三层训练网络\n",
    "输出测试集的准确率"
   ]
  },
  {
   "cell_type": "code",
   "execution_count": 4,
   "metadata": {},
   "outputs": [
    {
     "name": "stdout",
     "output_type": "stream",
     "text": [
      "Sequential(\n",
      "  (0): Linear(in_features=1, out_features=10, bias=True)\n",
      "  (1): ReLU()\n",
      "  (2): Linear(in_features=10, out_features=2, bias=True)\n",
      ")\n",
      "acc is: 0.4\n",
      "acc is: 0.5\n",
      "acc is: 0.5\n",
      "acc is: 0.5\n",
      "acc is: 0.75\n",
      "acc is: 0.84\n",
      "acc is: 0.9\n",
      "acc is: 0.93\n",
      "acc is: 0.95\n",
      "acc is: 0.97\n",
      "acc is: 0.98\n",
      "acc is: 0.98\n",
      "acc is: 0.99\n",
      "acc is: 0.99\n",
      "acc is: 1.0\n",
      "acc is: 1.0\n",
      "acc is: 1.0\n",
      "acc is: 1.0\n",
      "acc is: 1.0\n",
      "acc is: 1.0\n",
      "acc is: 1.0\n",
      "acc is: 1.0\n",
      "acc is: 1.0\n",
      "acc is: 1.0\n",
      "acc is: 1.0\n",
      "acc is: 1.0\n",
      "acc is: 1.0\n",
      "acc is: 1.0\n",
      "acc is: 1.0\n",
      "acc is: 1.0\n",
      "acc is: 1.0\n",
      "acc is: 1.0\n",
      "acc is: 1.0\n",
      "acc is: 1.0\n",
      "acc is: 1.0\n",
      "acc is: 1.0\n",
      "acc is: 1.0\n",
      "acc is: 1.0\n",
      "acc is: 1.0\n",
      "acc is: 1.0\n",
      "acc is: 1.0\n",
      "acc is: 1.0\n",
      "acc is: 1.0\n",
      "acc is: 1.0\n",
      "acc is: 1.0\n",
      "acc is: 1.0\n",
      "acc is: 1.0\n",
      "acc is: 1.0\n",
      "acc is: 1.0\n",
      "acc is: 1.0\n",
      "acc is: 1.0\n",
      "acc is: 1.0\n",
      "acc is: 1.0\n",
      "acc is: 1.0\n",
      "acc is: 1.0\n",
      "acc is: 1.0\n",
      "acc is: 1.0\n",
      "acc is: 1.0\n",
      "acc is: 1.0\n",
      "acc is: 1.0\n",
      "acc is: 1.0\n",
      "acc is: 1.0\n",
      "acc is: 1.0\n",
      "acc is: 1.0\n",
      "acc is: 1.0\n",
      "acc is: 1.0\n",
      "acc is: 1.0\n",
      "acc is: 1.0\n",
      "acc is: 1.0\n",
      "acc is: 1.0\n",
      "acc is: 1.0\n",
      "acc is: 1.0\n",
      "acc is: 1.0\n",
      "acc is: 1.0\n",
      "acc is: 1.0\n",
      "acc is: 1.0\n",
      "acc is: 1.0\n",
      "acc is: 1.0\n",
      "acc is: 1.0\n",
      "acc is: 1.0\n",
      "acc is: 1.0\n",
      "acc is: 1.0\n",
      "acc is: 1.0\n",
      "acc is: 1.0\n",
      "acc is: 1.0\n",
      "acc is: 1.0\n",
      "acc is: 1.0\n",
      "acc is: 1.0\n",
      "acc is: 1.0\n",
      "acc is: 1.0\n",
      "acc is: 1.0\n",
      "acc is: 1.0\n",
      "acc is: 1.0\n",
      "acc is: 1.0\n",
      "acc is: 1.0\n",
      "acc is: 1.0\n",
      "acc is: 1.0\n",
      "acc is: 1.0\n",
      "acc is: 1.0\n",
      "acc is: 1.0\n"
     ]
    }
   ],
   "source": [
    "# 使用第二种方式来构建这个深度模型\n",
    "mynet = torch.nn.Sequential(\n",
    "    torch.nn.Linear(1, 10),\n",
    "    torch.nn.ReLU(),\n",
    "    torch.nn.Linear(10, 2)\n",
    ")\n",
    "print(mynet)\n",
    "optimizer = torch.optim.SGD(mynet.parameters(), lr=0.01)\n",
    "loss_func = torch.nn.CrossEntropyLoss()\n",
    "\n",
    "for t in range(1000):\n",
    "    out = mynet(x)\n",
    "    loss = loss_func(out, y)\n",
    "    optimizer.zero_grad()\n",
    "    loss.backward()\n",
    "    optimizer.step()\n",
    "\n",
    "    if t % 10 == 0:\n",
    "        acc = get_acc(y, out)\n",
    "        print('acc is:', acc)"
   ]
  },
  {
   "cell_type": "code",
   "execution_count": null,
   "metadata": {},
   "outputs": [],
   "source": [
    ""
   ]
  }
 ],
 "metadata": {
  "kernelspec": {
   "display_name": "Python 3",
   "language": "python",
   "name": "python3"
  },
  "language_info": {
   "codemirror_mode": {
    "name": "ipython",
    "version": 3.0
   },
   "file_extension": ".py",
   "mimetype": "text/x-python",
   "name": "python",
   "nbconvert_exporter": "python",
   "pygments_lexer": "ipython3",
   "version": "3.6.5"
  }
 },
 "nbformat": 4,
 "nbformat_minor": 0
}