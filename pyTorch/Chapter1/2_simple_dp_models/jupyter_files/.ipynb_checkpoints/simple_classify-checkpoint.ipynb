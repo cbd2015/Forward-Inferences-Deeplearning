{
 "cells": [
  {
   "cell_type": "markdown",
   "metadata": {},
   "source": [
    "## 生成数据，包含X和y, training data and test data"
   ]
  },
  {
   "cell_type": "code",
   "execution_count": 5,
   "metadata": {},
   "outputs": [
    {
     "data": {
      "image/png": "[encoded data removed]",
      "text/plain": [
       "<Figure size 432x288 with 1 Axes>"
      ]
     },
     "metadata": {},
     "output_type": "display_data"
    }
   ],
   "source": [
    "import torch\n",
    "from torch.nn import functional as F\n",
    "import matplotlib.pyplot as plt\n",
    "data_num = 100\n",
    "# 构建样本\n",
    "x = torch.unsqueeze(torch.linspace(-1,1,data_num), dim=1)\n",
    "# 构建label\n",
    "y0 = torch.zeros(50) \n",
    "y1 = torch.ones(50)\n",
    "y = torch.cat((y0, y1)).type(torch.LongTensor)\n",
    "plt.scatter(x.data, y.data, s=50, cmap='autumn')\n",
    "plt.show()"
   ]
  },
  {
   "cell_type": "markdown",
   "metadata": {},
   "source": [
    "###  定义分类精度评估函数\n",
    "\n",
    "计算被正确分类的精度，显然精度越高越好\n"
   ]
  },
  {
   "cell_type": "code",
   "execution_count": 2,
   "metadata": {},
   "outputs": [],
   "source": [
    "def get_acc(labels, outputs):\n",
    "    '''get_acc: Get the classification accuracy\n",
    "        Inputs: labels: the ground truth; \n",
    "                outputs: the predicted labels of a DNN \n",
    "        Outputs: the accuracy \n",
    "    '''\n",
    "    _, predicted = torch.max(outputs.data, 1)\n",
    "    data_num = y.shape[0]*1.0\n",
    "    #item() to get a Python number from a tensor containing a single value:\n",
    "    correct_num = (predicted == labels).sum().item()\n",
    "    accuracy = correct_num/data_num\n",
    "    return accuracy"
   ]
  },
  {
   "cell_type": "markdown",
   "metadata": {},
   "source": [
    "## 定义一个分类的class\n",
    "### 网络结构：包含一个隐藏层"
   ]
  },
  {
   "cell_type": "code",
   "execution_count": 3,
   "metadata": {},
   "outputs": [],
   "source": [
    "class SimpleNet(torch.nn.Module):\n",
    "    def __init__(self, n_features, n_hidden, n_output):\n",
    "        super(SimpleNet, self).__init__()\n",
    "        self.hidden = torch.nn.Linear(n_features, n_hidden)\n",
    "        self.predict = torch.nn.Linear(n_hidden, n_output)\n",
    "    \n",
    "    def forward(self, x):\n",
    "        hidden_result = self.hidden(x)\n",
    "        x = F.relu(hidden_result)\n",
    "        x = self.predict(x)\n",
    "        return x\n"
   ]
  },
  {
   "cell_type": "markdown",
   "metadata": {},
   "source": [
    "## 训练一个分类器，二类分类器\n"
   ]
  },
  {
   "cell_type": "code",
   "execution_count": 4,
   "metadata": {},
   "outputs": [
    {
     "name": "stdout",
     "output_type": "stream",
     "text": [
      "<bound method Module.parameters of SimpleNet(\n",
      "  (hidden): Linear(in_features=1, out_features=10, bias=True)\n",
      "  (predict): Linear(in_features=10, out_features=2, bias=True)\n",
      ")>\n",
      "acc is: 0.5\n",
      "acc is: 0.5\n",
      "acc is: 0.5\n",
      "acc is: 0.5\n",
      "acc is: 0.5\n",
      "acc is: 0.5\n",
      "acc is: 0.5\n",
      "acc is: 0.74\n",
      "acc is: 0.91\n",
      "acc is: 0.97\n",
      "acc is: 1.0\n",
      "acc is: 0.99\n",
      "acc is: 0.98\n",
      "acc is: 0.98\n",
      "acc is: 0.98\n",
      "acc is: 0.98\n",
      "acc is: 0.98\n",
      "acc is: 0.98\n",
      "acc is: 0.98\n",
      "acc is: 0.99\n",
      "acc is: 0.99\n",
      "acc is: 0.99\n",
      "acc is: 0.99\n",
      "acc is: 0.99\n",
      "acc is: 0.99\n",
      "acc is: 0.99\n",
      "acc is: 1.0\n",
      "acc is: 1.0\n",
      "acc is: 1.0\n",
      "acc is: 1.0\n",
      "acc is: 1.0\n",
      "acc is: 1.0\n",
      "acc is: 1.0\n",
      "acc is: 1.0\n",
      "acc is: 1.0\n",
      "acc is: 1.0\n",
      "acc is: 1.0\n",
      "acc is: 1.0\n",
      "acc is: 1.0\n",
      "acc is: 1.0\n",
      "acc is: 1.0\n",
      "acc is: 1.0\n",
      "acc is: 1.0\n",
      "acc is: 1.0\n",
      "acc is: 1.0\n",
      "acc is: 1.0\n",
      "acc is: 1.0\n",
      "acc is: 1.0\n",
      "acc is: 1.0\n",
      "acc is: 1.0\n",
      "acc is: 1.0\n",
      "acc is: 1.0\n",
      "acc is: 1.0\n",
      "acc is: 1.0\n",
      "acc is: 1.0\n",
      "acc is: 1.0\n",
      "acc is: 1.0\n",
      "acc is: 1.0\n",
      "acc is: 1.0\n",
      "acc is: 1.0\n",
      "acc is: 1.0\n",
      "acc is: 1.0\n",
      "acc is: 1.0\n",
      "acc is: 1.0\n",
      "acc is: 1.0\n",
      "acc is: 1.0\n",
      "acc is: 1.0\n",
      "acc is: 1.0\n",
      "acc is: 1.0\n",
      "acc is: 1.0\n",
      "acc is: 1.0\n",
      "acc is: 1.0\n",
      "acc is: 1.0\n",
      "acc is: 1.0\n",
      "acc is: 1.0\n",
      "acc is: 1.0\n",
      "acc is: 1.0\n",
      "acc is: 1.0\n",
      "acc is: 1.0\n",
      "acc is: 1.0\n",
      "acc is: 1.0\n",
      "acc is: 1.0\n",
      "acc is: 1.0\n",
      "acc is: 1.0\n",
      "acc is: 1.0\n",
      "acc is: 1.0\n",
      "acc is: 1.0\n",
      "acc is: 1.0\n",
      "acc is: 1.0\n",
      "acc is: 1.0\n",
      "acc is: 1.0\n",
      "acc is: 1.0\n",
      "acc is: 1.0\n",
      "acc is: 1.0\n",
      "acc is: 1.0\n",
      "acc is: 1.0\n",
      "acc is: 1.0\n",
      "acc is: 1.0\n",
      "acc is: 1.0\n",
      "acc is: 1.0\n"
     ]
    }
   ],
   "source": [
    "\n",
    "mynet = SimpleNet(1,10,2)\n",
    "print(mynet.parameters)\n",
    "\n",
    "optimizer = torch.optim.SGD(mynet.parameters(), lr=0.01)\n",
    "loss_func = torch.nn.CrossEntropyLoss()\n",
    "\n",
    "for t in range(1000):\n",
    "    optimizer.zero_grad()\n",
    "    # forward + backward + optimize\n",
    "    out = mynet(x)\n",
    "    loss = loss_func(out, y)\n",
    "    loss.backward()\n",
    "    optimizer.step()\n",
    "\n",
    "    if t % 10 == 0:\n",
    "        acc = get_acc(y, out)\n",
    "        print('acc is:', acc)"
   ]
  },
  {
   "cell_type": "code",
   "execution_count": null,
   "metadata": {},
   "outputs": [],
   "source": []
  }
 ],
 "metadata": {
  "kernelspec": {
   "display_name": "Python 3",
   "language": "python",
   "name": "python3"
  },
  "language_info": {
   "codemirror_mode": {
    "name": "ipython",
    "version": 3
   },
   "file_extension": ".py",
   "mimetype": "text/x-python",
   "name": "python",
   "nbconvert_exporter": "python",
   "pygments_lexer": "ipython3",
   "version": "3.6.5"
  }
 },
 "nbformat": 4,
 "nbformat_minor": 2
}
