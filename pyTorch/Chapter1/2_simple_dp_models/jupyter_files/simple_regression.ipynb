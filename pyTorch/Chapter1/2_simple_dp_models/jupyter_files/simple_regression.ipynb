{
 "cells": [
  {
   "cell_type": "markdown",
   "metadata": {},
   "source": [
    "## 生成数据，包含X和y, training data and test data"
   ]
  },
  {
   "cell_type": "code",
   "execution_count": 1,
   "metadata": {},
   "outputs": [
    {
     "data": {
      "text/plain": [
       "<Figure size 640x480 with 1 Axes>"
      ]
     },
     "metadata": {},
     "output_type": "display_data"
    }
   ],
   "source": [
    "import torch\n",
    "import matplotlib.pyplot as plt\n",
    "from torch.nn import functional as F\n",
    "# unsqueeze 是把向量变成矩阵。\n",
    "x = torch.unsqueeze(torch.linspace(-1,1,100), dim=1)\n",
    "y = x.pow(2) \n",
    "plt.scatter(x.data, y.data, s=10, cmap='autumn')\n",
    "plt.show()"
   ]
  },
  {
   "cell_type": "markdown",
   "metadata": {},
   "source": [
    "## 构建一个回归的class\n",
    "### 构建的回归神经网络包含一个隐藏层"
   ]
  },
  {
   "cell_type": "code",
   "execution_count": 2,
   "metadata": {},
   "outputs": [],
   "source": [
    "class SimpleNet(torch.nn.Module):\n",
    "    def __init__(self, n_features, n_hidden, n_output):\n",
    "        super(SimpleNet, self).__init__()\n",
    "        self.hidden = torch.nn.Linear(n_features, n_hidden)\n",
    "        self.predict = torch.nn.Linear(n_hidden, n_output)\n",
    "    \n",
    "    def forward(self, x):\n",
    "        hidden_result = self.hidden(x)\n",
    "        x = F.relu(hidden_result)\n",
    "        x = self.predict(x)\n",
    "        return x"
   ]
  },
  {
   "cell_type": "markdown",
   "metadata": {},
   "source": [
    "## 训练一个拟合的回归曲线\n",
    "输出训练的损失值与测试的预测值"
   ]
  },
  {
   "cell_type": "code",
   "execution_count": 3,
   "metadata": {},
   "outputs": [
    {
     "name": "stdout",
     "output_type": "stream",
     "text": [
      "SimpleNet(\n",
      "  (hidden): Linear(in_features=1, out_features=10, bias=True)\n",
      "  (predict): Linear(in_features=10, out_features=1, bias=True)\n",
      ")\n",
      "tensor(0.3757)\n",
      "tensor(0.0312)\n",
      "tensor(0.0081)\n",
      "tensor(0.0049)\n",
      "tensor(0.0036)\n",
      "tensor(0.0026)\n",
      "tensor(0.0019)\n",
      "tensor(0.0015)\n",
      "tensor(0.0012)\n",
      "tensor(0.0010)\n",
      "tensor(0.0008)\n",
      "tensor(0.0007)\n",
      "tensor(0.0006)\n",
      "tensor(0.0006)\n",
      "tensor(0.0005)\n",
      "tensor(0.0005)\n",
      "tensor(0.0004)\n",
      "tensor(0.0004)\n",
      "tensor(0.0004)\n",
      "tensor(0.0004)\n",
      "tensor([-1.]) tensor([0.9467])\n"
     ]
    }
   ],
   "source": [
    "mynet = SimpleNet(1, 10, 1)\n",
    "print(mynet)\n",
    "\n",
    "optimizer = torch.optim.SGD(mynet.parameters(), lr=0.1)\n",
    "loss_func = torch.nn.MSELoss()\n",
    "\n",
    "# ------ training ---------  \n",
    "for epoch in range(2000):\n",
    "    optimizer.zero_grad()\n",
    "\n",
    "    # forward + backward + optimize\n",
    "    pred = mynet(x)\n",
    "    loss = loss_func(pred, y)\n",
    "    loss.backward()\n",
    "    optimizer.step()\n",
    "    \n",
    "    if(epoch%100 ==0): print(loss.data)\n",
    "\n",
    "# ------ prediction --------- \n",
    "test_data = torch.tensor([-1.0])\n",
    "pred = mynet(test_data)\n",
    "print(test_data, pred.data)"
   ]
  }
 ],
 "metadata": {
  "kernelspec": {
   "display_name": "Python 3",
   "language": "python",
   "name": "python3"
  },
  "language_info": {
   "codemirror_mode": {
    "name": "ipython",
    "version": 3
   },
   "file_extension": ".py",
   "mimetype": "text/x-python",
   "name": "python",
   "nbconvert_exporter": "python",
   "pygments_lexer": "ipython3",
   "version": "3.6.5"
  }
 },
 "nbformat": 4,
 "nbformat_minor": 2
}
