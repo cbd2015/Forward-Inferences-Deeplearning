{
 "cells": [
  {
   "cell_type": "code",
   "execution_count": 1,
   "metadata": {},
   "outputs": [],
   "source": [
    "import torch\n",
    "from torch.autograd import Variable\n",
    "from torch.nn import functional\n",
    "# 构建训练数据\n",
    "data_num = 100\n",
    "x = torch.unsqueeze(torch.linspace(-1,1,data_num), dim=1)\n",
    "y0 = torch.zeros(50) \n",
    "y1 = torch.ones(50)\n",
    "y = torch.cat((y0, y1), ).type(torch.LongTensor)\n",
    "\n",
    "def get_acc(labels, outputs):\n",
    "    '''get_acc: Get the classification accuracy\n",
    "        Inputs: labels: the ground truth; \n",
    "                outputs: the predicted labels of a DNN \n",
    "        Outputs: the accuracy \n",
    "    '''\n",
    "    _, predicted = torch.max(outputs.data, 1)\n",
    "    data_num = y.shape[0]*1.0\n",
    "    #item() to get a Python number from a tensor containing a single value:\n",
    "    correct_num = (predicted == labels).sum().item()\n",
    "    accuracy = correct_num/data_num\n",
    "    return accuracy"
   ]
  },
  {
   "cell_type": "markdown",
   "metadata": {},
   "source": [
    "## 定义保存网络模型函数"
   ]
  },
  {
   "cell_type": "code",
   "execution_count": 2,
   "metadata": {},
   "outputs": [],
   "source": [
    "def save():\n",
    "    # 定义网络\n",
    "    mynet = torch.nn.Sequential(\n",
    "        torch.nn.Linear(1, 10),\n",
    "        torch.nn.ReLU(),\n",
    "        torch.nn.Linear(10, 2)\n",
    "    )\n",
    "    print(mynet)\n",
    "\n",
    "    optimizer = torch.optim.SGD(mynet.parameters(), lr=0.01)\n",
    "    loss_func = torch.nn.CrossEntropyLoss()\n",
    "\n",
    "    for t in range(1000):\n",
    "        out = mynet(x)\n",
    "        loss = loss_func(out, y)\n",
    "        optimizer.zero_grad()\n",
    "        loss.backward()\n",
    "        optimizer.step()\n",
    "\n",
    "        if t % 100 == 0:\n",
    "            acc = get_acc(y, out)\n",
    "            print('acc is:', acc)\n",
    "    \n",
    "    torch.save(mynet, 'net.pkl' ) # 保存训练好的网咯"
   ]
  },
  {
   "cell_type": "markdown",
   "metadata": {},
   "source": [
    "## 定义恢复网络模型函数"
   ]
  },
  {
   "cell_type": "code",
   "execution_count": null,
   "metadata": {},
   "outputs": [],
   "source": [
    "def restore_net():\n",
    "    # load a trained DNN, and test its accuracy\n",
    "    loaded_net = torch.load('net.pkl')\n",
    "    print(loaded_net)\n",
    "\n",
    "    out = loaded_net(x)\n",
    "    acc = get_acc(y, out)\n",
    "    print('acc of loaded_net is:', acc)"
   ]
  },
  {
   "cell_type": "markdown",
   "metadata": {},
   "source": [
    "## 运行整体程序\n",
    "输出测试集的准确率"
   ]
  },
  {
   "cell_type": "code",
   "execution_count": 4,
   "metadata": {},
   "outputs": [
    {
     "name": "stdout",
     "output_type": "stream",
     "text": [
      "Sequential(\n",
      "  (0): Linear(in_features=1, out_features=10, bias=True)\n",
      "  (1): ReLU()\n",
      "  (2): Linear(in_features=10, out_features=2, bias=True)\n",
      ")\n",
      "acc is: 0.5\n",
      "acc is: 0.99\n",
      "acc is: 0.99\n",
      "acc is: 0.99\n",
      "acc is: 1.0\n",
      "acc is: 1.0\n",
      "acc is: 1.0\n",
      "acc is: 1.0\n",
      "acc is: 1.0\n",
      "acc is: 1.0\n",
      "Sequential(\n",
      "  (0): Linear(in_features=1, out_features=10, bias=True)\n",
      "  (1): ReLU()\n",
      "  (2): Linear(in_features=10, out_features=2, bias=True)\n",
      ")\n",
      "acc of loaded_net is: 1.0\n"
     ]
    }
   ],
   "source": [
    "save() # 先进行训练，并将训练好的网络进行保存\n",
    "restore_net() # 然后直接读取训练好的网络"
   ]
  },
  {
   "cell_type": "code",
   "execution_count": null,
   "metadata": {},
   "outputs": [],
   "source": [
    ""
   ]
  }
 ],
 "metadata": {
  "kernelspec": {
   "display_name": "Python 3",
   "language": "python",
   "name": "python3"
  },
  "language_info": {
   "codemirror_mode": {
    "name": "ipython",
    "version": 3.0
   },
   "file_extension": ".py",
   "mimetype": "text/x-python",
   "name": "python",
   "nbconvert_exporter": "python",
   "pygments_lexer": "ipython3",
   "version": "3.6.5"
  }
 },
 "nbformat": 4,
 "nbformat_minor": 0
}